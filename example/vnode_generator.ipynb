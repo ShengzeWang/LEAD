{
 "cells": [
  {
   "cell_type": "code",
   "execution_count": 42,
   "id": "48f99018",
   "metadata": {},
   "outputs": [
    {
     "name": "stdout",
     "output_type": "stream",
     "text": [
      "1 1,1\n",
      "2 1,1\n",
      "3 1,1\n",
      "4 1,1\n",
      "5 1,1\n",
      "6 2,2\n",
      "7 2,2\n",
      "8 2,2\n",
      "9 2,2\n",
      "10 2,2\n",
      "11 3,3\n",
      "12 3,3\n",
      "13 3,3\n",
      "14 3,3\n",
      "15 3,3\n",
      "16 4,4\n",
      "17 4,4\n",
      "18 4,4\n",
      "19 4,4\n",
      "20 4,4\n",
      "21 5,5\n",
      "22 5,5\n",
      "23 5,5\n",
      "24 5,5\n",
      "25 5,5\n",
      "26 6,6\n",
      "27 6,6\n",
      "28 6,6\n",
      "29 6,6\n",
      "30 6,6\n",
      "31 7,7\n",
      "32 7,7\n",
      "33 7,7\n",
      "34 7,7\n",
      "35 7,7\n",
      "36 8,8\n",
      "37 8,8\n",
      "38 8,8\n",
      "39 8,8\n",
      "40 8,8\n",
      "41 9,9\n",
      "42 9,9\n",
      "43 9,9\n",
      "44 9,9\n",
      "45 9,9\n",
      "46 10,10\n",
      "47 10,10\n",
      "48 10,10\n",
      "49 10,10\n",
      "50 10,10\n"
     ]
    }
   ],
   "source": [
    "num_of_node = 10\n",
    "num_of_vnode = 5\n",
    "t = 0 \n",
    "for i in range(1, num_of_node*num_of_vnode, num_of_vnode):\n",
    "    #print(\"......\")\n",
    "    #print(i)\n",
    "    #print(\"......\")\n",
    "    for n in range(1,num_of_vnode+1):\n",
    "        print(n + num_of_vnode * t, str(t+1) + str(\",\") + str(t+1))\n",
    "    t += 1"
   ]
  },
  {
   "cell_type": "code",
   "execution_count": null,
   "id": "5a6ce998",
   "metadata": {},
   "outputs": [],
   "source": []
  }
 ],
 "metadata": {
  "kernelspec": {
   "display_name": "Python 3 (ipykernel)",
   "language": "python",
   "name": "python3"
  },
  "language_info": {
   "codemirror_mode": {
    "name": "ipython",
    "version": 3
   },
   "file_extension": ".py",
   "mimetype": "text/x-python",
   "name": "python",
   "nbconvert_exporter": "python",
   "pygments_lexer": "ipython3",
   "version": "3.11.4"
  }
 },
 "nbformat": 4,
 "nbformat_minor": 5
}
